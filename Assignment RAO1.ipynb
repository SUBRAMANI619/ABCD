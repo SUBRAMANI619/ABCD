{
 "cells": [
  {
   "cell_type": "code",
   "execution_count": null,
   "metadata": {},
   "outputs": [],
   "source": [
    "1. Ans- \"hello\"-88.8\n",
    "\n",
    "2.  Ans- Variable :Spam\n",
    "            String'Spam'\n",
    "        \n",
    "3. Ans- 1. integer 2.Flaoting point number. 3.Character.\n",
    "\n",
    "4. Ans- An Expression is a Construct made up of Vraible, Operator.\n",
    "\n",
    "5. Ans- An Expression evaluate to a String Value.\n",
    "\n",
    "6. Ans- A Bacon Variable is set to 22, the bacon expression does not ressign the Values bacon=bacon+1\n",
    "\n",
    "7. Ans- Both Expression evaluate to the string'Spam Spam Spam'\n",
    "\n",
    "8. Ans- Varible names can not begin with a number.\n",
    "\n",
    "9. Ans- the int(),float(),str(),function will evaluate to the integer.\n",
    "\n",
    "10.Ans- The Correct way is i have eaten'+ Str(99)+'burrites'\n"
   ]
  }
 ],
 "metadata": {
  "kernelspec": {
   "display_name": "Python 3",
   "language": "python",
   "name": "python3"
  },
  "language_info": {
   "codemirror_mode": {
    "name": "ipython",
    "version": 3
   },
   "file_extension": ".py",
   "mimetype": "text/x-python",
   "name": "python",
   "nbconvert_exporter": "python",
   "pygments_lexer": "ipython3",
   "version": "3.8.5"
  }
 },
 "nbformat": 4,
 "nbformat_minor": 4
}
